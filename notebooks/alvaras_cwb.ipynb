{
 "cells": [
  {
   "cell_type": "markdown",
   "id": "cea71930",
   "metadata": {},
   "source": [
    "# TCC - Estudo da base de alvarás de Curitiba"
   ]
  },
  {
   "cell_type": "markdown",
   "id": "5b79161d",
   "metadata": {},
   "source": [
    "Estrutura básica do código:\n",
    " - Importações das bibliotecas\n",
    " - Definições das funções\n",
    " - Programa em si"
   ]
  },
  {
   "cell_type": "markdown",
   "id": "e715296d",
   "metadata": {},
   "source": [
    "<b>Resumo do funcionamento:</b><br>\n",
    "Leitura das tabelas que estão no banco SQL chamado BIGSEA, contendo os dados já tratados sobre a cidade de Curitiba e posterior tratamento e análise exploratória feitos em Python."
   ]
  },
  {
   "cell_type": "markdown",
   "id": "73ad3510",
   "metadata": {},
   "source": [
    "<b>Instrução prévia, antes de rodar este programa:</b><br>\n",
    "Abrir o <b>PuTTy</b> e rodar a conexão <b>C3SL</b>, para estabelecer a conexão com o banco SQL BIGSEA."
   ]
  },
  {
   "cell_type": "markdown",
   "id": "ba3eb945",
   "metadata": {},
   "source": [
    "# Importação das bibliotecas"
   ]
  },
  {
   "cell_type": "code",
   "execution_count": 1,
   "id": "f5028ff7",
   "metadata": {},
   "outputs": [],
   "source": [
    "import pandas as pd\n",
    "import numpy as np\n",
    "\n",
    "import datetime as dt\n",
    "\n",
    "import geopandas as gpd\n",
    "\n",
    "import psycopg2"
   ]
  },
  {
   "cell_type": "code",
   "execution_count": 2,
   "id": "bdfcc3b2",
   "metadata": {},
   "outputs": [],
   "source": [
    "import matplotlib.pyplot as plt\n",
    "import seaborn as sns\n",
    "\n",
    "%matplotlib inline"
   ]
  },
  {
   "cell_type": "markdown",
   "id": "4bf97e56",
   "metadata": {},
   "source": [
    "# Definição de funções e variáveis globais"
   ]
  },
  {
   "cell_type": "code",
   "execution_count": 3,
   "id": "251f69d1",
   "metadata": {},
   "outputs": [],
   "source": [
    "def Conecta_Pgadmin(db_name):\n",
    "    conn = psycopg2.connect(host = 'localhost', database = db_name, port = '5435', user = 'postread', password = 'PostRead')\n",
    "    return conn"
   ]
  },
  {
   "cell_type": "code",
   "execution_count": 4,
   "id": "be5478bc",
   "metadata": {},
   "outputs": [],
   "source": [
    "def Base_Alvaras():\n",
    "    nome_tabela = \"prefeitura.alvara\"\n",
    "    postgreSQL_select_Query = \"SELECT * FROM \" + nome_tabela\n",
    "    df_alvaras_raw = pd.read_sql(postgreSQL_select_Query, Conecta_Pgadmin('postgiscwb'))\n",
    "    return df_alvaras_raw"
   ]
  },
  {
   "cell_type": "code",
   "execution_count": 5,
   "id": "a0836c0e",
   "metadata": {},
   "outputs": [],
   "source": [
    "def Mapa_Curitiba_Bairros():\n",
    "    gdf_mapa_bairros = gpd.GeoDataFrame.from_postgis(\"SELECT * FROM limites_legais.divisa_de_bairros\", Conecta_Pgadmin('bigsea'), geom_col='geom', crs=5533).to_crs(4326)\n",
    "    return gdf_mapa_bairros"
   ]
  },
  {
   "cell_type": "code",
   "execution_count": 6,
   "id": "7c1930d3",
   "metadata": {},
   "outputs": [],
   "source": [
    "def Corrige_Nomes_Bairros(nome_corrigir):\n",
    "    dict_correcoes = {'CIDADE INDUSTRIAL':'CIDADE INDUSTRIAL DE CURITIBA', \n",
    "'CIC':'CIDADE INDUSTRIAL DE CURITIBA', \n",
    "'SITIO CERCADO':'SÍTIO CERCADO', \n",
    "'MARUMBI II':'UBERABA', \n",
    "'SANTA CANDIDA':'SANTA CÂNDIDA', \n",
    "'JARDIM BOTANICO':'JARDIM BOTÂNICO', \n",
    "'AUTÓDROMO':'CAJURU', \n",
    "'TARUMA':'TARUMÃ', \n",
    "'GUAIRA':'GUAÍRA', \n",
    "'MOSSUNGE':'MOSSUNGUÊ', \n",
    "'AHU':'AHÚ', \n",
    "'ALTO BARIGUI':'CIDADE INDUSTRIAL DE CURITIBA', \n",
    "'VILA VERDE II':'CIDADE INDUSTRIAL DE CURITIBA', \n",
    "'VILA VERDE - CIC':'CIDADE INDUSTRIAL DE CURITIBA', \n",
    "'VILA SAO JOSE':'AUGUSTA', \n",
    "'ALTO BOQUEIRAO':'ALTO BOQUEIRÃO', \n",
    "'VILA GUAIRA':'GUAÍRA', \n",
    "'VILA AUTÓDROMO':'CAJURU', \n",
    "'VILA AUDI':'UBERABA', \n",
    "'VILA - TRINDADE':'CAJURU', \n",
    "'CAPAO DA IMBUIA':'CAPÃO DA IMBUIA', \n",
    "'PORTAO':'PORTÃO', \n",
    "'LINDOIA':'LINDÓIA', \n",
    "'PRANCHA 80.0':'PORTÃO', \n",
    "'CAPÃO DAIMBUIA':'CAPÃO DA IMBUIA', \n",
    "'S/N':'TIRAR FORA', \n",
    "'SABARA':'CIDADE INDUSTRIAL DE CURITIBA', \n",
    "'CAPÃO':'CAPÃO DA IMBUIA', \n",
    "'BOQUEIRAO':'BOQUEIRÃO', \n",
    "'SÃO DOMINGOS':'TIRAR FORA', \n",
    "'CAPAO RASO':'CAPÃO RASO', \n",
    "'None':'TIRAR FORA', \n",
    "'INDICAÇÕES CANCELADAS':'TIRAR FORA', \n",
    "'JD. ITALIA':'SANTA FELICIDADE', \n",
    "'MORADIAS ARAGUAIA':'CAPÃO DA IMBUIA', \n",
    "'MORADIAS CJURU':'CAJURU', \n",
    "'VILA SÃO DOMINGOS':'CAJURU', \n",
    "'STA CANDIDA':'SANTA CÂNDIDA', \n",
    "'VILA AGRICOLA':'CAJURU', \n",
    "'JARDIM GABINETO':'CIDADE INDUSTRIAL DE CURITIBA', \n",
    "'UBERABA DE CIMA':'UBERABA', \n",
    "'ALTO DA XV':'ALTO DA RUA XV', \n",
    "'VILA VERDE CIC':'CIDADE INDUSTRIAL DE CURITIBA', \n",
    "'CAJURU (VILA OFICINAS)':'CAJURU', \n",
    "'C. COMPRIDO':'CAMPO COMPRIDO', \n",
    "'MARUMBU II (CAJURU)':'CAJURU', \n",
    "'AUGUSTA B':'AUGUSTA', \n",
    "'CENTENARIO':'CAJURU', \n",
    "'C SANTANA':'CAMPO DE SANTANA', \n",
    "'VILA CENTENÁRIO':'CAJURU', \n",
    "'MORADIAS CAJURU (CAJURU)':'CAJURU', \n",
    "'C DA IMBUIA':'CAPÃO DA IMBUIA', \n",
    "'JARDIM FLORIANÓPOLIS':'CAJURU', \n",
    "'PANTANAL':'ALTO BOQUEIRÃO', \n",
    "'VILA TRINDADE':'CAJURU', \n",
    "'JARDIM CABINETO':'CIDADE INDUSTRIAL DE CURITIBA', \n",
    "'PLANTA EVARISTO (UBERABA)':'UBERABA'}\n",
    "    if nome_corrigir in dict_correcoes:\n",
    "        nome = dict_correcoes[nome_corrigir]\n",
    "        \n",
    "    else:\n",
    "        nome = nome_corrigir\n",
    "    \n",
    "    return nome"
   ]
  },
  {
   "cell_type": "code",
   "execution_count": null,
   "id": "bacb8a20",
   "metadata": {},
   "outputs": [],
   "source": []
  },
  {
   "cell_type": "code",
   "execution_count": null,
   "id": "69f15a1c",
   "metadata": {},
   "outputs": [],
   "source": []
  },
  {
   "cell_type": "code",
   "execution_count": null,
   "id": "026d3d8f",
   "metadata": {},
   "outputs": [],
   "source": []
  },
  {
   "cell_type": "code",
   "execution_count": null,
   "id": "ebc5a0ea",
   "metadata": {},
   "outputs": [],
   "source": []
  },
  {
   "cell_type": "code",
   "execution_count": null,
   "id": "8f636660",
   "metadata": {},
   "outputs": [],
   "source": []
  },
  {
   "cell_type": "code",
   "execution_count": null,
   "id": "8be9143e",
   "metadata": {},
   "outputs": [],
   "source": []
  },
  {
   "cell_type": "code",
   "execution_count": null,
   "id": "de9fe99f",
   "metadata": {},
   "outputs": [],
   "source": []
  },
  {
   "cell_type": "code",
   "execution_count": null,
   "id": "89e2950c",
   "metadata": {},
   "outputs": [],
   "source": []
  },
  {
   "cell_type": "code",
   "execution_count": null,
   "id": "181f5e46",
   "metadata": {},
   "outputs": [],
   "source": []
  },
  {
   "cell_type": "code",
   "execution_count": null,
   "id": "66e687c0",
   "metadata": {},
   "outputs": [],
   "source": []
  },
  {
   "cell_type": "code",
   "execution_count": null,
   "id": "6ae212ee",
   "metadata": {},
   "outputs": [],
   "source": []
  },
  {
   "cell_type": "code",
   "execution_count": null,
   "id": "503cfe6a",
   "metadata": {},
   "outputs": [],
   "source": []
  },
  {
   "cell_type": "code",
   "execution_count": null,
   "id": "3dd12ab7",
   "metadata": {},
   "outputs": [],
   "source": []
  },
  {
   "cell_type": "code",
   "execution_count": null,
   "id": "a02d11ee",
   "metadata": {},
   "outputs": [],
   "source": []
  },
  {
   "cell_type": "code",
   "execution_count": null,
   "id": "d6115e4d",
   "metadata": {},
   "outputs": [],
   "source": []
  },
  {
   "cell_type": "code",
   "execution_count": null,
   "id": "bf4ee821",
   "metadata": {},
   "outputs": [],
   "source": []
  },
  {
   "cell_type": "markdown",
   "id": "5eb0d945",
   "metadata": {},
   "source": [
    "# Programa em si"
   ]
  },
  {
   "cell_type": "code",
   "execution_count": 7,
   "id": "1028a02e",
   "metadata": {},
   "outputs": [
    {
     "name": "stderr",
     "output_type": "stream",
     "text": [
      "C:\\Users\\User\\anaconda3\\lib\\site-packages\\pandas\\io\\sql.py:761: UserWarning: pandas only support SQLAlchemy connectable(engine/connection) ordatabase string URI or sqlite3 DBAPI2 connectionother DBAPI2 objects are not tested, please consider using SQLAlchemy\n",
      "  warnings.warn(\n",
      "C:\\Users\\User\\anaconda3\\lib\\site-packages\\pandas\\io\\sql.py:761: UserWarning: pandas only support SQLAlchemy connectable(engine/connection) ordatabase string URI or sqlite3 DBAPI2 connectionother DBAPI2 objects are not tested, please consider using SQLAlchemy\n",
      "  warnings.warn(\n"
     ]
    }
   ],
   "source": [
    "df_alvaras_raw = Base_Alvaras()\n",
    "gdf_mapa_bairros = Mapa_Curitiba_Bairros()"
   ]
  },
  {
   "cell_type": "code",
   "execution_count": 8,
   "id": "35ff1fa0",
   "metadata": {},
   "outputs": [],
   "source": [
    "df_alvaras = df_alvaras_raw.copy()"
   ]
  },
  {
   "cell_type": "markdown",
   "id": "041ec2c7",
   "metadata": {},
   "source": [
    "## Tratamento básico do DataFrame"
   ]
  },
  {
   "cell_type": "code",
   "execution_count": 9,
   "id": "0262d958",
   "metadata": {},
   "outputs": [
    {
     "name": "stdout",
     "output_type": "stream",
     "text": [
      "<class 'pandas.core.frame.DataFrame'>\n",
      "RangeIndex: 515876 entries, 0 to 515875\n",
      "Data columns (total 23 columns):\n",
      " #   Column                        Non-Null Count   Dtype  \n",
      "---  ------                        --------------   -----  \n",
      " 0   nome_empresarial              515876 non-null  object \n",
      " 1   data_inicio_atividade         515874 non-null  object \n",
      " 2   numero_do_alvara              515876 non-null  int64  \n",
      " 3   nome_da_empresa               1895 non-null    object \n",
      " 4   data_emissao                  515871 non-null  object \n",
      " 5   data_expiracao                47104 non-null   object \n",
      " 6   atividade_principal           515876 non-null  object \n",
      " 7   atividade_secundaria1         208950 non-null  object \n",
      " 8   atividade_secundaria2         131217 non-null  object \n",
      " 9   endereco                      515876 non-null  object \n",
      " 10  numero                        515763 non-null  object \n",
      " 11  unidate                       314288 non-null  object \n",
      " 12  andar                         95147 non-null   object \n",
      " 13  complemento                   87565 non-null   object \n",
      " 14  bairro                        511170 non-null  object \n",
      " 15  cep                           515549 non-null  object \n",
      " 16  cidade                        0 non-null       object \n",
      " 17  estado                        0 non-null       object \n",
      " 18  latitude                      316293 non-null  float64\n",
      " 19  longitude                     316301 non-null  float64\n",
      " 20  localidade                    316293 non-null  object \n",
      " 21  atividade_principal_agregada  510745 non-null  object \n",
      " 22  tipo_modificado               14915 non-null   object \n",
      "dtypes: float64(2), int64(1), object(20)\n",
      "memory usage: 90.5+ MB\n"
     ]
    }
   ],
   "source": [
    "# Verificação geral dos dados:\n",
    "df_alvaras.info()"
   ]
  },
  {
   "cell_type": "code",
   "execution_count": 10,
   "id": "e44f0fe7",
   "metadata": {},
   "outputs": [],
   "source": [
    "# Retirada das colunas 'cidade' e 'estado', já nulas\n",
    "# Retirada das colunas 'latitude', 'longitude' e 'localidade', pois se utilizará apenas a granularidade de bairros e regionais\n",
    "# Data de expiração nula: descarte dessa coluna para a análise\n",
    "df_alvaras = df_alvaras.drop(columns = {'cidade', 'estado', 'latitude', 'longitude', 'localidade', 'data_expiracao'})"
   ]
  },
  {
   "cell_type": "code",
   "execution_count": 11,
   "id": "83808813",
   "metadata": {},
   "outputs": [],
   "source": [
    "# Início de atividade nula: considerados como \"data_emissao\":\n",
    "df_alvaras.loc[df_alvaras['data_inicio_atividade'].isna(), 'data_inicio_atividade'] = df_alvaras['data_emissao']\n",
    "\n",
    "# Nomes de empresa nulos: considerados como \"nome_empresarial\":\n",
    "df_alvaras.loc[df_alvaras['nome_da_empresa'].isna(), 'nome_da_empresa'] = df_alvaras['nome_empresarial']"
   ]
  },
  {
   "cell_type": "code",
   "execution_count": 12,
   "id": "51b189e3",
   "metadata": {},
   "outputs": [],
   "source": [
    "# Filtro das datas: apenas alvarás emitidos entre 2013 e 2018:\n",
    "df_alvaras = df_alvaras.loc[(df_alvaras['data_emissao'] >= dt.date(2013,1,1)) & (df_alvaras['data_emissao'] <= dt.date(2018,12,31))].reset_index(drop=True)"
   ]
  },
  {
   "cell_type": "code",
   "execution_count": 13,
   "id": "2ccf661b",
   "metadata": {},
   "outputs": [],
   "source": [
    "# Limpezas dos nomes dos bairros, para que estejam iguais à base do mapa\n",
    "gdf_mapa_bairros['nome'] = gdf_mapa_bairros['nome'].str.replace('CAPÃO DA IMBÚIA', 'CAPÃO DA IMBUIA')\n",
    "df_alvaras['bairro'] = df_alvaras['bairro'].str.upper()\n",
    "df_alvaras['bairro'] = df_alvaras.apply(lambda x: Corrige_Nomes_Bairros(x['bairro']), axis=1)\n",
    "df_alvaras = df_alvaras.loc[df_alvaras.bairro != 'TIRAR FORA'].reset_index(drop=True)"
   ]
  },
  {
   "cell_type": "code",
   "execution_count": null,
   "id": "b59b557d",
   "metadata": {},
   "outputs": [],
   "source": []
  },
  {
   "cell_type": "code",
   "execution_count": null,
   "id": "2b630a3b",
   "metadata": {},
   "outputs": [],
   "source": []
  },
  {
   "cell_type": "code",
   "execution_count": null,
   "id": "28e407be",
   "metadata": {},
   "outputs": [],
   "source": []
  },
  {
   "cell_type": "code",
   "execution_count": null,
   "id": "25857dde",
   "metadata": {},
   "outputs": [],
   "source": []
  },
  {
   "cell_type": "code",
   "execution_count": null,
   "id": "509cedbf",
   "metadata": {},
   "outputs": [],
   "source": []
  },
  {
   "cell_type": "markdown",
   "id": "d5de1c38",
   "metadata": {},
   "source": [
    "## Agrupamentos básicos"
   ]
  },
  {
   "cell_type": "code",
   "execution_count": null,
   "id": "2eaabb18",
   "metadata": {},
   "outputs": [],
   "source": []
  },
  {
   "cell_type": "code",
   "execution_count": null,
   "id": "13873e10",
   "metadata": {},
   "outputs": [],
   "source": []
  },
  {
   "cell_type": "code",
   "execution_count": null,
   "id": "6e357443",
   "metadata": {},
   "outputs": [],
   "source": []
  },
  {
   "cell_type": "code",
   "execution_count": null,
   "id": "5fef3dd4",
   "metadata": {},
   "outputs": [],
   "source": []
  },
  {
   "cell_type": "markdown",
   "id": "125a1544",
   "metadata": {},
   "source": [
    "### Análise de mapas e Entropia de Shannon"
   ]
  },
  {
   "cell_type": "code",
   "execution_count": null,
   "id": "a8a02316",
   "metadata": {},
   "outputs": [],
   "source": []
  },
  {
   "cell_type": "code",
   "execution_count": null,
   "id": "68527e27",
   "metadata": {},
   "outputs": [],
   "source": []
  }
 ],
 "metadata": {
  "kernelspec": {
   "display_name": "Python 3 (ipykernel)",
   "language": "python",
   "name": "python3"
  },
  "language_info": {
   "codemirror_mode": {
    "name": "ipython",
    "version": 3
   },
   "file_extension": ".py",
   "mimetype": "text/x-python",
   "name": "python",
   "nbconvert_exporter": "python",
   "pygments_lexer": "ipython3",
   "version": "3.8.13"
  }
 },
 "nbformat": 4,
 "nbformat_minor": 5
}
